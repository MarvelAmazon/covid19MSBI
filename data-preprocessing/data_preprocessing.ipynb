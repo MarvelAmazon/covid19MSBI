{
 "cells": [
  {
   "cell_type": "code",
   "execution_count": 26,
   "metadata": {},
   "outputs": [],
   "source": [
    "import numpy as np\n",
    "import pandas as pd\n",
    "import datetime\n",
    "import dateutil \n",
    "import sqlalchemy\n",
    "import ve\n"
   ]
  },
  {
   "cell_type": "code",
   "execution_count": 27,
   "metadata": {},
   "outputs": [],
   "source": [
    "df = pd.read_csv('datasets/mspp_covid19_cases.csv')"
   ]
  },
  {
   "cell_type": "code",
   "execution_count": 28,
   "metadata": {},
   "outputs": [
    {
     "output_type": "execute_result",
     "data": {
      "text/plain": "   Unnamed: 0  departement  cas_suspects  cas_confirmes  deces  \\\n0           0   Artibonite            47              4      0   \n1           1       Centre            14              1      0   \n2           2  Grande'Anse             2              0      0   \n3           3       Nippes            16              2      0   \n4           4         Nord            28              0      0   \n\n   taux_de_letalite document_date  \n0               0.0    2020-04-15  \n1               0.0    2020-04-15  \n2               0.0    2020-04-15  \n3               0.0    2020-04-15  \n4               0.0    2020-04-15  ",
      "text/html": "<div>\n<style scoped>\n    .dataframe tbody tr th:only-of-type {\n        vertical-align: middle;\n    }\n\n    .dataframe tbody tr th {\n        vertical-align: top;\n    }\n\n    .dataframe thead th {\n        text-align: right;\n    }\n</style>\n<table border=\"1\" class=\"dataframe\">\n  <thead>\n    <tr style=\"text-align: right;\">\n      <th></th>\n      <th>Unnamed: 0</th>\n      <th>departement</th>\n      <th>cas_suspects</th>\n      <th>cas_confirmes</th>\n      <th>deces</th>\n      <th>taux_de_letalite</th>\n      <th>document_date</th>\n    </tr>\n  </thead>\n  <tbody>\n    <tr>\n      <th>0</th>\n      <td>0</td>\n      <td>Artibonite</td>\n      <td>47</td>\n      <td>4</td>\n      <td>0</td>\n      <td>0.0</td>\n      <td>2020-04-15</td>\n    </tr>\n    <tr>\n      <th>1</th>\n      <td>1</td>\n      <td>Centre</td>\n      <td>14</td>\n      <td>1</td>\n      <td>0</td>\n      <td>0.0</td>\n      <td>2020-04-15</td>\n    </tr>\n    <tr>\n      <th>2</th>\n      <td>2</td>\n      <td>Grande'Anse</td>\n      <td>2</td>\n      <td>0</td>\n      <td>0</td>\n      <td>0.0</td>\n      <td>2020-04-15</td>\n    </tr>\n    <tr>\n      <th>3</th>\n      <td>3</td>\n      <td>Nippes</td>\n      <td>16</td>\n      <td>2</td>\n      <td>0</td>\n      <td>0.0</td>\n      <td>2020-04-15</td>\n    </tr>\n    <tr>\n      <th>4</th>\n      <td>4</td>\n      <td>Nord</td>\n      <td>28</td>\n      <td>0</td>\n      <td>0</td>\n      <td>0.0</td>\n      <td>2020-04-15</td>\n    </tr>\n  </tbody>\n</table>\n</div>"
     },
     "metadata": {},
     "execution_count": 28
    }
   ],
   "source": [
    "df.head()"
   ]
  },
  {
   "cell_type": "code",
   "execution_count": 29,
   "metadata": {},
   "outputs": [],
   "source": [
    "features = ['departement','cas_suspects','cas_confirmes','deces','taux_de_letalite','document_date']\n",
    "df =  df[features]"
   ]
  },
  {
   "cell_type": "code",
   "execution_count": 30,
   "metadata": {},
   "outputs": [],
   "source": [
    "df['document_date'] = pd.to_datetime(df['document_date'] )"
   ]
  },
  {
   "cell_type": "code",
   "execution_count": 31,
   "metadata": {},
   "outputs": [
    {
     "output_type": "error",
     "ename": "AttributeError",
     "evalue": "module 'pandas' has no attribute 'da'",
     "traceback": [
      "\u001b[1;31m---------------------------------------------------------------------------\u001b[0m",
      "\u001b[1;31mAttributeError\u001b[0m                            Traceback (most recent call last)",
      "\u001b[1;32m<ipython-input-31-ff29a09c3230>\u001b[0m in \u001b[0;36m<module>\u001b[1;34m\u001b[0m\n\u001b[1;32m----> 1\u001b[1;33m \u001b[0mdf\u001b[0m\u001b[1;33m[\u001b[0m\u001b[1;34m'document_date'\u001b[0m\u001b[1;33m]\u001b[0m \u001b[1;33m=\u001b[0m \u001b[0mpd\u001b[0m\u001b[1;33m.\u001b[0m\u001b[0mda\u001b[0m\u001b[1;33m\u001b[0m\u001b[1;33m\u001b[0m\u001b[0m\n\u001b[0m",
      "\u001b[1;32m~\\AppData\\Local\\Programs\\Python\\Python38-32\\lib\\site-packages\\pandas\\__init__.py\u001b[0m in \u001b[0;36m__getattr__\u001b[1;34m(name)\u001b[0m\n\u001b[0;32m    261\u001b[0m             \u001b[1;32mreturn\u001b[0m \u001b[0m_SparseArray\u001b[0m\u001b[1;33m\u001b[0m\u001b[1;33m\u001b[0m\u001b[0m\n\u001b[0;32m    262\u001b[0m \u001b[1;33m\u001b[0m\u001b[0m\n\u001b[1;32m--> 263\u001b[1;33m         \u001b[1;32mraise\u001b[0m \u001b[0mAttributeError\u001b[0m\u001b[1;33m(\u001b[0m\u001b[1;34mf\"module 'pandas' has no attribute '{name}'\"\u001b[0m\u001b[1;33m)\u001b[0m\u001b[1;33m\u001b[0m\u001b[1;33m\u001b[0m\u001b[0m\n\u001b[0m\u001b[0;32m    264\u001b[0m \u001b[1;33m\u001b[0m\u001b[0m\n\u001b[0;32m    265\u001b[0m \u001b[1;33m\u001b[0m\u001b[0m\n",
      "\u001b[1;31mAttributeError\u001b[0m: module 'pandas' has no attribute 'da'"
     ]
    }
   ],
   "source": [
    "df['document_date'] = pd.da"
   ]
  },
  {
   "cell_type": "code",
   "execution_count": 32,
   "metadata": {},
   "outputs": [
    {
     "output_type": "execute_result",
     "data": {
      "text/plain": "   departement  cas_suspects  cas_confirmes  deces  taux_de_letalite  \\\n0   Artibonite            47              4      0               0.0   \n1       Centre            14              1      0               0.0   \n2  Grande'Anse             2              0      0               0.0   \n3       Nippes            16              2      0               0.0   \n4         Nord            28              0      0               0.0   \n\n  document_date  \n0    2020-04-15  \n1    2020-04-15  \n2    2020-04-15  \n3    2020-04-15  \n4    2020-04-15  ",
      "text/html": "<div>\n<style scoped>\n    .dataframe tbody tr th:only-of-type {\n        vertical-align: middle;\n    }\n\n    .dataframe tbody tr th {\n        vertical-align: top;\n    }\n\n    .dataframe thead th {\n        text-align: right;\n    }\n</style>\n<table border=\"1\" class=\"dataframe\">\n  <thead>\n    <tr style=\"text-align: right;\">\n      <th></th>\n      <th>departement</th>\n      <th>cas_suspects</th>\n      <th>cas_confirmes</th>\n      <th>deces</th>\n      <th>taux_de_letalite</th>\n      <th>document_date</th>\n    </tr>\n  </thead>\n  <tbody>\n    <tr>\n      <th>0</th>\n      <td>Artibonite</td>\n      <td>47</td>\n      <td>4</td>\n      <td>0</td>\n      <td>0.0</td>\n      <td>2020-04-15</td>\n    </tr>\n    <tr>\n      <th>1</th>\n      <td>Centre</td>\n      <td>14</td>\n      <td>1</td>\n      <td>0</td>\n      <td>0.0</td>\n      <td>2020-04-15</td>\n    </tr>\n    <tr>\n      <th>2</th>\n      <td>Grande'Anse</td>\n      <td>2</td>\n      <td>0</td>\n      <td>0</td>\n      <td>0.0</td>\n      <td>2020-04-15</td>\n    </tr>\n    <tr>\n      <th>3</th>\n      <td>Nippes</td>\n      <td>16</td>\n      <td>2</td>\n      <td>0</td>\n      <td>0.0</td>\n      <td>2020-04-15</td>\n    </tr>\n    <tr>\n      <th>4</th>\n      <td>Nord</td>\n      <td>28</td>\n      <td>0</td>\n      <td>0</td>\n      <td>0.0</td>\n      <td>2020-04-15</td>\n    </tr>\n  </tbody>\n</table>\n</div>"
     },
     "metadata": {},
     "execution_count": 32
    }
   ],
   "source": [
    "df.head()"
   ]
  },
  {
   "cell_type": "code",
   "execution_count": null,
   "metadata": {},
   "outputs": [],
   "source": [
    "datetime."
   ]
  }
 ],
 "metadata": {
  "language_info": {
   "codemirror_mode": {
    "name": "ipython",
    "version": 3
   },
   "file_extension": ".py",
   "mimetype": "text/x-python",
   "name": "python",
   "nbconvert_exporter": "python",
   "pygments_lexer": "ipython3",
   "version": "3.8.2-final"
  },
  "orig_nbformat": 2,
  "kernelspec": {
   "name": "python38232bit1061edd897c34bc9bde6683b5eabcb5f",
   "display_name": "Python 3.8.2 32-bit"
  }
 },
 "nbformat": 4,
 "nbformat_minor": 2
}